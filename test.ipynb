{
 "cells": [
  {
   "cell_type": "code",
   "execution_count": 2,
   "metadata": {},
   "outputs": [
    {
     "name": "stdout",
     "output_type": "stream",
     "text": [
      "{'a': [1, 4], 'b': [2, 5, 7], 'c': [3, 8], 'd': [6], 'e': [9]}\n"
     ]
    }
   ],
   "source": [
    "from typing import List, Dict\n",
    "\n",
    "def dict_reduce(data: List[Dict[str, int]]) -> Dict[str, List[int]]:\n",
    "    result = {}\n",
    "\n",
    "    for entry in data:\n",
    "        for key, value in entry.items():\n",
    "            if key in result:\n",
    "                result[key].append(value)\n",
    "            else:\n",
    "                result[key] = [value]\n",
    "\n",
    "    return result\n",
    "\n",
    "# Example usage:\n",
    "input_data = [\n",
    "    {'a': 1, 'b': 2, 'c': 3},\n",
    "    {'a': 4, 'b': 5, 'd': 6},\n",
    "    {'b': 7, 'c': 8, 'e': 9}\n",
    "]\n",
    "\n",
    "output_result = dict_reduce(input_data)\n",
    "print(output_result)"
   ]
  }
 ],
 "metadata": {
  "kernelspec": {
   "display_name": "Python 3",
   "language": "python",
   "name": "python3"
  },
  "language_info": {
   "codemirror_mode": {
    "name": "ipython",
    "version": 3
   },
   "file_extension": ".py",
   "mimetype": "text/x-python",
   "name": "python",
   "nbconvert_exporter": "python",
   "pygments_lexer": "ipython3",
   "version": "3.10.6"
  }
 },
 "nbformat": 4,
 "nbformat_minor": 2
}
